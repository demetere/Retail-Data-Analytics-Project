{
 "cells": [
  {
   "cell_type": "markdown",
   "source": [
    "# Classifictaion Task\n",
    "\n",
    "### Goals\n",
    "Our goal to predict whether each costumer will be repurchase \n",
    "or not within 14 days.\n",
    "\n",
    "### Steps\n",
    "* Import Libraries \n",
    "* Collecting Data\n",
    "* Preparing Data\n",
    "* Feature Engineering\n",
    "* Train Model\n",
    "* Predict\n",
    "* Conclusion\n",
    "\n",
    "\n",
    "\n",
    "\n",
    "### Introduction\n",
    "In this notebook I will show you the solving of a classification problem. We have 2 years \n",
    "worth of data. We need to predict last 14 days worth of repurchase counts and the customers\n",
    "that will be repurchasing. We will implement some methods there and will compare how good are they;\n",
    "<br><br><br>\n",
    "### 1. Import Libraries \n",
    "First of all lets import libraries which will be need in further coding."
   ],
   "metadata": {
    "collapsed": false,
    "pycharm": {
     "name": "#%% md\n"
    }
   }
  },
  {
   "cell_type": "code",
   "execution_count": 1,
   "outputs": [],
   "source": [
    "from __future__ import division\n",
    "\n",
    "# import libraries\n",
    "from datetime import date\n",
    "import pandas as pd\n",
    "from sklearn.cluster import KMeans\n",
    "\n",
    "# do not show warnings\n",
    "import warnings\n",
    "\n",
    "warnings.filterwarnings(\"ignore\")\n",
    "\n",
    "\n",
    "# import machine learning related libraries\n",
    "from sklearn.svm import SVC\n",
    "from sklearn.tree import DecisionTreeClassifier\n",
    "from sklearn.neighbors import KNeighborsClassifier\n",
    "from sklearn.naive_bayes import GaussianNB\n",
    "from sklearn.ensemble import RandomForestClassifier\n",
    "from sklearn.linear_model import LogisticRegression\n",
    "from sklearn.model_selection import KFold, cross_val_score, train_test_split\n",
    "import xgboost as xgb\n",
    "\n",
    "from database.database import Database, schema_name, invoice_table, invoice_product_table, product_table"
   ],
   "metadata": {
    "collapsed": false,
    "pycharm": {
     "name": "#%%\n",
     "is_executing": false
    }
   }
  },
  {
   "cell_type": "markdown",
   "source": [
    "### 2. Collecting Data\n",
    "Now lets collect the data on which we will be working. We are using database\n",
    "for storing data. So we need to create database object and select query."
   ],
   "metadata": {
    "collapsed": false,
    "pycharm": {
     "name": "#%% md\n"
    }
   }
  },
  {
   "cell_type": "code",
   "execution_count": 2,
   "outputs": [],
   "source": [
    "database = Database('../../database/database.ini')\n",
    "\n",
    "#\n",
    "query = f\"\"\"select it.invoice_date, it.customer_id, ipt.quantity, pt.price\n",
    "            from {schema_name}.{invoice_table} it\n",
    "                inner join {schema_name}.{invoice_product_table} ipt \n",
    "                    on it.invoice_no = ipt.invoice_no\n",
    "                inner join {schema_name}.{product_table} pt \n",
    "                    on ipt.stock_code = pt.stock_code\n",
    "            where it.customer_id <> 'NaN' and\n",
    "\t\t\t\t\tleft(it.invoice_no,1)<>'C'\n",
    "            order by it.invoice_date  \"\"\""
   ],
   "metadata": {
    "collapsed": false,
    "pycharm": {
     "name": "#%% \n",
     "is_executing": false
    }
   }
  },
  {
   "cell_type": "markdown",
   "source": [
    "Everything is ready, now we can collect that data from database with the select function\n",
    "we create in Database Class; Because that function returns list we will turn that list \n",
    "into Dataframe with the help of pandas."
   ],
   "metadata": {
    "collapsed": false,
    "pycharm": {
     "name": "#%% md\n"
    }
   }
  },
  {
   "cell_type": "code",
   "execution_count": 3,
   "outputs": [
    {
     "data": {
      "text/plain": "  InvoiceDate Customer ID Quantity Price\n0  2009-12-01       17063        1  2.25\n1  2009-12-01       17063        8  4.95\n2  2009-12-01       17063       10  3.75\n3  2009-12-01       17063        3  0.00\n4  2009-12-01       17063        2  2.95\n5  2009-12-01       17063        2  2.95\n6  2009-12-01       17063        2  2.95\n7  2009-12-01       15719        2  2.51\n8  2009-12-01       15719        2  2.51\n9  2009-12-01       15719        4  1.25",
      "text/html": "<div>\n<style scoped>\n    .dataframe tbody tr th:only-of-type {\n        vertical-align: middle;\n    }\n\n    .dataframe tbody tr th {\n        vertical-align: top;\n    }\n\n    .dataframe thead th {\n        text-align: right;\n    }\n</style>\n<table border=\"1\" class=\"dataframe\">\n  <thead>\n    <tr style=\"text-align: right;\">\n      <th></th>\n      <th>InvoiceDate</th>\n      <th>Customer ID</th>\n      <th>Quantity</th>\n      <th>Price</th>\n    </tr>\n  </thead>\n  <tbody>\n    <tr>\n      <th>0</th>\n      <td>2009-12-01</td>\n      <td>17063</td>\n      <td>1</td>\n      <td>2.25</td>\n    </tr>\n    <tr>\n      <th>1</th>\n      <td>2009-12-01</td>\n      <td>17063</td>\n      <td>8</td>\n      <td>4.95</td>\n    </tr>\n    <tr>\n      <th>2</th>\n      <td>2009-12-01</td>\n      <td>17063</td>\n      <td>10</td>\n      <td>3.75</td>\n    </tr>\n    <tr>\n      <th>3</th>\n      <td>2009-12-01</td>\n      <td>17063</td>\n      <td>3</td>\n      <td>0.00</td>\n    </tr>\n    <tr>\n      <th>4</th>\n      <td>2009-12-01</td>\n      <td>17063</td>\n      <td>2</td>\n      <td>2.95</td>\n    </tr>\n    <tr>\n      <th>5</th>\n      <td>2009-12-01</td>\n      <td>17063</td>\n      <td>2</td>\n      <td>2.95</td>\n    </tr>\n    <tr>\n      <th>6</th>\n      <td>2009-12-01</td>\n      <td>17063</td>\n      <td>2</td>\n      <td>2.95</td>\n    </tr>\n    <tr>\n      <th>7</th>\n      <td>2009-12-01</td>\n      <td>15719</td>\n      <td>2</td>\n      <td>2.51</td>\n    </tr>\n    <tr>\n      <th>8</th>\n      <td>2009-12-01</td>\n      <td>15719</td>\n      <td>2</td>\n      <td>2.51</td>\n    </tr>\n    <tr>\n      <th>9</th>\n      <td>2009-12-01</td>\n      <td>15719</td>\n      <td>4</td>\n      <td>1.25</td>\n    </tr>\n  </tbody>\n</table>\n</div>"
     },
     "metadata": {},
     "output_type": "execute_result",
     "execution_count": 3
    }
   ],
   "source": [
    "select = database.select(query)\n",
    "data = pd.DataFrame(select, columns=['InvoiceDate', 'Customer ID', 'Quantity', 'Price'])\n",
    "data.head(10)"
   ],
   "metadata": {
    "collapsed": false,
    "pycharm": {
     "name": "#%% \n",
     "is_executing": false
    }
   }
  },
  {
   "cell_type": "markdown",
   "source": [
    "### 3. Preparing Data\n",
    "Now we can start to prepare data for model with its features. \n",
    "\n",
    "As you can see we have 4 columns: Invoice Date, Customer Id, Quantity and Price.  \n",
    "Now we will pick split our data in two parts. We will take last 6 month for prediction\n",
    "and then other part for train."
   ],
   "metadata": {
    "collapsed": false,
    "pycharm": {
     "name": "#%% md\n"
    }
   }
  },
  {
   "cell_type": "code",
   "execution_count": 4,
   "outputs": [],
   "source": [
    "train_date_before = data[data['InvoiceDate'] < date(2011, 11, 25)].reset_index(drop=True)\n",
    "train_date_after = data[data['InvoiceDate'] >= date(2011, 11, 25)].reset_index(drop=True)"
   ],
   "metadata": {
    "collapsed": false,
    "pycharm": {
     "name": "#%% \n",
     "is_executing": false
    }
   }
  },
  {
   "cell_type": "markdown",
   "source": [
    "Also, we will create a dataframe called customers to possess a user-level \n",
    "feature set for the prediction model:"
   ],
   "metadata": {
    "collapsed": false,
    "pycharm": {
     "name": "#%% md\n"
    }
   }
  },
  {
   "cell_type": "code",
   "execution_count": 5,
   "outputs": [],
   "source": [
    "customers = pd.DataFrame(train_date_before['Customer ID'].unique())\n",
    "customers.columns = ['Customer ID'] "
   ],
   "metadata": {
    "collapsed": false,
    "pycharm": {
     "name": "#%% \n",
     "is_executing": false
    }
   }
  },
  {
   "cell_type": "markdown",
   "source": [
    "By using the data in train_date_after, we need the calculate our label \n",
    "(days between last purchase before cut off date and first purchase after that):"
   ],
   "metadata": {
    "collapsed": false,
    "pycharm": {
     "name": "#%% md\n"
    }
   }
  },
  {
   "cell_type": "code",
   "execution_count": 6,
   "outputs": [
    {
     "data": {
      "text/plain": "  Customer ID  NextPurchaseDay\n0       17063            999.0\n1       15719            999.0\n2       12490             12.0\n3       15793             25.0\n4       17056            999.0",
      "text/html": "<div>\n<style scoped>\n    .dataframe tbody tr th:only-of-type {\n        vertical-align: middle;\n    }\n\n    .dataframe tbody tr th {\n        vertical-align: top;\n    }\n\n    .dataframe thead th {\n        text-align: right;\n    }\n</style>\n<table border=\"1\" class=\"dataframe\">\n  <thead>\n    <tr style=\"text-align: right;\">\n      <th></th>\n      <th>Customer ID</th>\n      <th>NextPurchaseDay</th>\n    </tr>\n  </thead>\n  <tbody>\n    <tr>\n      <th>0</th>\n      <td>17063</td>\n      <td>999.0</td>\n    </tr>\n    <tr>\n      <th>1</th>\n      <td>15719</td>\n      <td>999.0</td>\n    </tr>\n    <tr>\n      <th>2</th>\n      <td>12490</td>\n      <td>12.0</td>\n    </tr>\n    <tr>\n      <th>3</th>\n      <td>15793</td>\n      <td>25.0</td>\n    </tr>\n    <tr>\n      <th>4</th>\n      <td>17056</td>\n      <td>999.0</td>\n    </tr>\n  </tbody>\n</table>\n</div>"
     },
     "metadata": {},
     "output_type": "execute_result",
     "execution_count": 6
    }
   ],
   "source": [
    "# Create a Dataframe with Custoemr ID and First Purchase date after given Date\n",
    "customer_next_purchase = train_date_after.groupby('Customer ID').InvoiceDate.min().reset_index()\n",
    "customer_next_purchase.columns = ['Customer ID', 'MinPurchaseDate']\n",
    "\n",
    "# Create a Dataframe with Customer ID and last Purchase Date before given Date\n",
    "customer_last_purchase = train_date_before.groupby('Customer ID').InvoiceDate.max().reset_index()\n",
    "customer_last_purchase.columns = ['Customer ID', 'MaxPurchaseDate']\n",
    "\n",
    " # Merge two Dataframes\n",
    "purchase_dates = pd.merge(customer_last_purchase, customer_next_purchase, on='Customer ID', how='left')\n",
    "\n",
    "# Calculate the time difference in days\n",
    "purchase_dates['NextPurchaseDay'] = (\n",
    "    purchase_dates['MinPurchaseDate'] - purchase_dates['MaxPurchaseDate']).dt.days\n",
    "\n",
    "# Merge with Customers\n",
    "customers = pd.merge(customers, purchase_dates[['Customer ID', 'NextPurchaseDay']], \n",
    "                     on='Customer ID', how='left')\n",
    "\n",
    "# Fill NA values with 999\n",
    "customers = customers.fillna(999)\n",
    "\n",
    "customers.head()"
   ],
   "metadata": {
    "collapsed": false,
    "pycharm": {
     "name": "#%%\n",
     "is_executing": false
    }
   }
  },
  {
   "cell_type": "markdown",
   "source": [
    "As you can see, we have NaN values because those customers haven’t made any purchase yet. We fill NaN with 999 \n",
    "to quickly identify them later.\n",
    "\n",
    "We have customer ids and corresponding labels in a dataframe. \n",
    "Let’s enrich it with our feature set to build our machine learning model.\n",
    "\n",
    "### 4. Feature Engineering\n",
    "\n",
    "For this project, we have selected our feature candidates like below:\n",
    "* RFM scores & clusters\n",
    "* Days between the last three purchases\n",
    "* Mean & standard deviation of the difference between purchases in days\n",
    "\n",
    "After adding these features, we need to deal with the categorical features by applying **get_dummies** method.\n",
    "For **RFM** the code would be like"
   ],
   "metadata": {
    "collapsed": false,
    "pycharm": {
     "name": "#%% md\n"
    }
   }
  },
  {
   "cell_type": "code",
   "execution_count": 7,
   "outputs": [
    {
     "data": {
      "text/plain": "                 count        mean        std    min    25%    50%     75%  \\\nRecencyCluster                                                               \n0                648.0  606.688272  64.040403  503.0  553.0  604.0  654.25   \n1               1143.0  396.585302  47.153041  300.0  364.0  393.0  423.50   \n2               1024.0  200.786133  52.155476  118.0  156.0  197.0  246.00   \n3               3009.0   33.722832  29.959130    0.0    9.0   24.0   52.00   \n\n                  max  \nRecencyCluster         \n0               723.0  \n1               501.0  \n2               298.0  \n3               116.0  ",
      "text/html": "<div>\n<style scoped>\n    .dataframe tbody tr th:only-of-type {\n        vertical-align: middle;\n    }\n\n    .dataframe tbody tr th {\n        vertical-align: top;\n    }\n\n    .dataframe thead th {\n        text-align: right;\n    }\n</style>\n<table border=\"1\" class=\"dataframe\">\n  <thead>\n    <tr style=\"text-align: right;\">\n      <th></th>\n      <th>count</th>\n      <th>mean</th>\n      <th>std</th>\n      <th>min</th>\n      <th>25%</th>\n      <th>50%</th>\n      <th>75%</th>\n      <th>max</th>\n    </tr>\n    <tr>\n      <th>RecencyCluster</th>\n      <th></th>\n      <th></th>\n      <th></th>\n      <th></th>\n      <th></th>\n      <th></th>\n      <th></th>\n      <th></th>\n    </tr>\n  </thead>\n  <tbody>\n    <tr>\n      <th>0</th>\n      <td>648.0</td>\n      <td>606.688272</td>\n      <td>64.040403</td>\n      <td>503.0</td>\n      <td>553.0</td>\n      <td>604.0</td>\n      <td>654.25</td>\n      <td>723.0</td>\n    </tr>\n    <tr>\n      <th>1</th>\n      <td>1143.0</td>\n      <td>396.585302</td>\n      <td>47.153041</td>\n      <td>300.0</td>\n      <td>364.0</td>\n      <td>393.0</td>\n      <td>423.50</td>\n      <td>501.0</td>\n    </tr>\n    <tr>\n      <th>2</th>\n      <td>1024.0</td>\n      <td>200.786133</td>\n      <td>52.155476</td>\n      <td>118.0</td>\n      <td>156.0</td>\n      <td>197.0</td>\n      <td>246.00</td>\n      <td>298.0</td>\n    </tr>\n    <tr>\n      <th>3</th>\n      <td>3009.0</td>\n      <td>33.722832</td>\n      <td>29.959130</td>\n      <td>0.0</td>\n      <td>9.0</td>\n      <td>24.0</td>\n      <td>52.00</td>\n      <td>116.0</td>\n    </tr>\n  </tbody>\n</table>\n</div>"
     },
     "metadata": {},
     "output_type": "execute_result",
     "execution_count": 7
    }
   ],
   "source": [
    "# Max Purchase date for Recency\n",
    "max_purchase = train_date_before.groupby('Customer ID').InvoiceDate.max().reset_index()\n",
    "max_purchase.columns = ['Customer ID', 'MaxPurchaseDate']\n",
    "\n",
    "# Find the recency in days and add it to Customers\n",
    "max_purchase['Recency'] = (max_purchase['MaxPurchaseDate'].max() - max_purchase['MaxPurchaseDate']).dt.days\n",
    "customers = pd.merge(customers, max_purchase[['Customer ID', 'Recency']], on='Customer ID')\n",
    "\n",
    "def order_cluster(cluster_field_name, target_field_name, dataframe, ascending):\n",
    "    new_cluster_field_name = 'new_' + cluster_field_name\n",
    "\n",
    "    datafarme_new = dataframe.groupby(cluster_field_name)[target_field_name].mean().reset_index()\n",
    "    datafarme_new = datafarme_new.sort_values(by=target_field_name, ascending=ascending).reset_index(drop=True)\n",
    "    datafarme_new['index'] = datafarme_new.index\n",
    "    dataframe_final = pd.merge(dataframe, datafarme_new[[cluster_field_name, 'index']], on=cluster_field_name)\n",
    "    dataframe_final = dataframe_final.drop([cluster_field_name], axis=1)\n",
    "    dataframe_final = dataframe_final.rename(columns={'index': cluster_field_name})\n",
    "    return dataframe_final\n",
    "\n",
    "# Clustering for Recency\n",
    "kmeans = KMeans(n_clusters=4)\n",
    "kmeans.fit(customers[['Recency']])\n",
    "customers['RecencyCluster'] = kmeans.predict(customers[['Recency']])\n",
    "\n",
    "\n",
    "# This order_cluster function is function created by me and\n",
    "# it is implemented in the start of the file\n",
    "\n",
    "# Order Recency Clusters\n",
    "customers = order_cluster('RecencyCluster', 'Recency', customers, False)\n",
    "\n",
    "# Print Cluster Characteristics\n",
    "customers.groupby('RecencyCluster')['Recency'].describe()"
   ],
   "metadata": {
    "collapsed": false,
    "pycharm": {
     "name": "#%%\n",
     "is_executing": false
    }
   }
  },
  {
   "cell_type": "code",
   "execution_count": 8,
   "outputs": [],
   "source": [
    "# Get Total purchases for Frequency Scores\n",
    "frequency = train_date_before.groupby('Customer ID').InvoiceDate.count().reset_index()\n",
    "frequency.columns = ['Customer ID', 'Frequency']\n",
    "\n",
    "# Add Frequency column to Customers\n",
    "customers = pd.merge(customers, frequency, on='Customer ID')\n",
    "\n",
    "# Clustering for Frequency\n",
    "\n",
    "kmeans = KMeans(n_clusters=4)\n",
    "kmeans.fit(customers[['Frequency']])\n",
    "customers['FrequencyCluster'] = kmeans.predict(customers[['Frequency']])\n",
    "\n",
    "# Order Frequency cluster and Show the Characteristics\n",
    "\n",
    "customers = order_cluster('FrequencyCluster', 'Frequency', customers, True)\n",
    "customers.groupby('FrequencyCluster')['Frequency'].describe()\n",
    "\n",
    "# Calculate monetary value, Create a Dataframe With it\n",
    "train_date_before['Revenue'] = train_date_before['Quantity'] * train_date_before['Price']\n",
    "train_date_before['Revenue'] = pd.to_numeric(train_date_before['Revenue'])\n",
    "revenue = train_date_before.groupby('Customer ID').Revenue.sum().reset_index()\n",
    "\n",
    "customers = pd.merge(customers, revenue, on='Customer ID')\n",
    "\n",
    "# Revenue Clusters\n",
    "kmeans = KMeans(n_clusters=4)\n",
    "kmeans.fit(customers[['Revenue']])\n",
    "customers['RevenueCluster'] = kmeans.predict(customers[['Revenue']])\n",
    "\n",
    "# Ordering Clusters and who the Characteristics\n",
    "customers = order_cluster('RevenueCluster', 'Revenue', customers, True)\n",
    "customers.groupby('RevenueCluster')['Revenue'].describe()\n",
    "\n",
    "# Building overall Segmentation\n",
    "customers['OverallScore'] = customers['RecencyCluster'] + customers['FrequencyCluster'] \\\n",
    "                                        + customers['RevenueCluster']\n",
    "\n",
    "# Assign Segment Names\n",
    "customers['Segment'] = 'Low-Value'\n",
    "customers.loc[customers['OverallScore'] > 2, 'Segment'] = 'Mid-Value'\n",
    "customers.loc[customers['OverallScore'] > 4, 'Segment'] = 'High-Value'"
   ],
   "metadata": {
    "collapsed": false,
    "pycharm": {
     "name": "#%%\n",
     "is_executing": false
    }
   }
  },
  {
   "cell_type": "markdown",
   "source": [
    "We will be using **shift()** method a lot in this part.\n",
    "First, we create a dataframe with Customer ID and Invoice Day (not datetime).\n",
    "Then we will remove the duplicates since customers can do multiple purchases \n",
    "in a day and difference will become 0 for those."
   ],
   "metadata": {
    "collapsed": false,
    "pycharm": {
     "name": "#%% md\n"
    }
   }
  },
  {
   "cell_type": "code",
   "execution_count": 9,
   "outputs": [],
   "source": [
    "# Create a Datafram with Custoemr ID and Invoice Date\n",
    "day_order = train_date_before[['Customer ID', 'InvoiceDate']]\n",
    "\n",
    "# Convert Invoice Datetime to day\n",
    "\n",
    "day_order['InvoiceDay'] = train_date_before['InvoiceDate']\n",
    "\n",
    "day_order = day_order.sort_values(['Customer ID', 'InvoiceDate'])\n",
    "\n",
    "# Drop Duplicates\n",
    "day_order = day_order.drop_duplicates(subset=['Customer ID', 'InvoiceDay'], keep='first')"
   ],
   "metadata": {
    "collapsed": false,
    "pycharm": {
     "name": "#%%\n",
     "is_executing": false
    }
   }
  },
  {
   "cell_type": "markdown",
   "source": [
    "Now we will use shift method and we create new columns with the dates \n",
    "of last 3 purchases and see how our dataframe looks like:"
   ],
   "metadata": {
    "collapsed": false,
    "pycharm": {
     "name": "#%% md\n"
    }
   }
  },
  {
   "cell_type": "code",
   "execution_count": 10,
   "outputs": [
    {
     "data": {
      "text/plain": "      Customer ID InvoiceDate  InvoiceDay PrevInvoiceDate T2InvoiceDate  \\\n21071       12346  2009-12-14  2009-12-14             NaN           NaN   \n28059       12346  2009-12-18  2009-12-18      2009-12-14           NaN   \n30762       12346  2010-01-04  2010-01-04      2009-12-18    2009-12-14   \n38060       12346  2010-01-14  2010-01-14      2010-01-04    2009-12-18   \n43840       12346  2010-01-22  2010-01-22      2010-01-14    2010-01-04   \n\n      T3InvoiceDate  \n21071           NaN  \n28059           NaN  \n30762           NaN  \n38060    2009-12-14  \n43840    2009-12-18  ",
      "text/html": "<div>\n<style scoped>\n    .dataframe tbody tr th:only-of-type {\n        vertical-align: middle;\n    }\n\n    .dataframe tbody tr th {\n        vertical-align: top;\n    }\n\n    .dataframe thead th {\n        text-align: right;\n    }\n</style>\n<table border=\"1\" class=\"dataframe\">\n  <thead>\n    <tr style=\"text-align: right;\">\n      <th></th>\n      <th>Customer ID</th>\n      <th>InvoiceDate</th>\n      <th>InvoiceDay</th>\n      <th>PrevInvoiceDate</th>\n      <th>T2InvoiceDate</th>\n      <th>T3InvoiceDate</th>\n    </tr>\n  </thead>\n  <tbody>\n    <tr>\n      <th>21071</th>\n      <td>12346</td>\n      <td>2009-12-14</td>\n      <td>2009-12-14</td>\n      <td>NaN</td>\n      <td>NaN</td>\n      <td>NaN</td>\n    </tr>\n    <tr>\n      <th>28059</th>\n      <td>12346</td>\n      <td>2009-12-18</td>\n      <td>2009-12-18</td>\n      <td>2009-12-14</td>\n      <td>NaN</td>\n      <td>NaN</td>\n    </tr>\n    <tr>\n      <th>30762</th>\n      <td>12346</td>\n      <td>2010-01-04</td>\n      <td>2010-01-04</td>\n      <td>2009-12-18</td>\n      <td>2009-12-14</td>\n      <td>NaN</td>\n    </tr>\n    <tr>\n      <th>38060</th>\n      <td>12346</td>\n      <td>2010-01-14</td>\n      <td>2010-01-14</td>\n      <td>2010-01-04</td>\n      <td>2009-12-18</td>\n      <td>2009-12-14</td>\n    </tr>\n    <tr>\n      <th>43840</th>\n      <td>12346</td>\n      <td>2010-01-22</td>\n      <td>2010-01-22</td>\n      <td>2010-01-14</td>\n      <td>2010-01-04</td>\n      <td>2009-12-18</td>\n    </tr>\n  </tbody>\n</table>\n</div>"
     },
     "metadata": {},
     "output_type": "execute_result",
     "execution_count": 10
    }
   ],
   "source": [
    "# Shifting last 3 Purchase dates\n",
    "day_order['PrevInvoiceDate'] = day_order.groupby('Customer ID')['InvoiceDay'].shift(1)\n",
    "day_order['T2InvoiceDate'] = day_order.groupby('Customer ID')['InvoiceDay'].shift(2)\n",
    "day_order['T3InvoiceDate'] = day_order.groupby('Customer ID')['InvoiceDay'].shift(3)\n",
    "\n",
    "day_order.head()"
   ],
   "metadata": {
    "collapsed": false,
    "pycharm": {
     "name": "#%%\n",
     "is_executing": false
    }
   }
  },
  {
   "cell_type": "markdown",
   "source": [
    "Now lets calculate the difference between days for each invoice date and see how it looks like:"
   ],
   "metadata": {
    "collapsed": false,
    "pycharm": {
     "name": "#%% md\n"
    }
   }
  },
  {
   "cell_type": "code",
   "execution_count": 11,
   "outputs": [
    {
     "data": {
      "text/plain": "      Customer ID InvoiceDate  InvoiceDay PrevInvoiceDate T2InvoiceDate  \\\n21071       12346  2009-12-14  2009-12-14             NaN           NaN   \n28059       12346  2009-12-18  2009-12-18      2009-12-14           NaN   \n30762       12346  2010-01-04  2010-01-04      2009-12-18    2009-12-14   \n38060       12346  2010-01-14  2010-01-14      2010-01-04    2009-12-18   \n43840       12346  2010-01-22  2010-01-22      2010-01-14    2010-01-04   \n\n      T3InvoiceDate  DayDiff  DayDiff2  DayDiff3  \n21071           NaN      NaN       NaN       NaN  \n28059           NaN      4.0       NaN       NaN  \n30762           NaN     17.0      21.0       NaN  \n38060    2009-12-14     10.0      27.0      31.0  \n43840    2009-12-18      8.0      18.0      35.0  ",
      "text/html": "<div>\n<style scoped>\n    .dataframe tbody tr th:only-of-type {\n        vertical-align: middle;\n    }\n\n    .dataframe tbody tr th {\n        vertical-align: top;\n    }\n\n    .dataframe thead th {\n        text-align: right;\n    }\n</style>\n<table border=\"1\" class=\"dataframe\">\n  <thead>\n    <tr style=\"text-align: right;\">\n      <th></th>\n      <th>Customer ID</th>\n      <th>InvoiceDate</th>\n      <th>InvoiceDay</th>\n      <th>PrevInvoiceDate</th>\n      <th>T2InvoiceDate</th>\n      <th>T3InvoiceDate</th>\n      <th>DayDiff</th>\n      <th>DayDiff2</th>\n      <th>DayDiff3</th>\n    </tr>\n  </thead>\n  <tbody>\n    <tr>\n      <th>21071</th>\n      <td>12346</td>\n      <td>2009-12-14</td>\n      <td>2009-12-14</td>\n      <td>NaN</td>\n      <td>NaN</td>\n      <td>NaN</td>\n      <td>NaN</td>\n      <td>NaN</td>\n      <td>NaN</td>\n    </tr>\n    <tr>\n      <th>28059</th>\n      <td>12346</td>\n      <td>2009-12-18</td>\n      <td>2009-12-18</td>\n      <td>2009-12-14</td>\n      <td>NaN</td>\n      <td>NaN</td>\n      <td>4.0</td>\n      <td>NaN</td>\n      <td>NaN</td>\n    </tr>\n    <tr>\n      <th>30762</th>\n      <td>12346</td>\n      <td>2010-01-04</td>\n      <td>2010-01-04</td>\n      <td>2009-12-18</td>\n      <td>2009-12-14</td>\n      <td>NaN</td>\n      <td>17.0</td>\n      <td>21.0</td>\n      <td>NaN</td>\n    </tr>\n    <tr>\n      <th>38060</th>\n      <td>12346</td>\n      <td>2010-01-14</td>\n      <td>2010-01-14</td>\n      <td>2010-01-04</td>\n      <td>2009-12-18</td>\n      <td>2009-12-14</td>\n      <td>10.0</td>\n      <td>27.0</td>\n      <td>31.0</td>\n    </tr>\n    <tr>\n      <th>43840</th>\n      <td>12346</td>\n      <td>2010-01-22</td>\n      <td>2010-01-22</td>\n      <td>2010-01-14</td>\n      <td>2010-01-04</td>\n      <td>2009-12-18</td>\n      <td>8.0</td>\n      <td>18.0</td>\n      <td>35.0</td>\n    </tr>\n  </tbody>\n</table>\n</div>"
     },
     "metadata": {},
     "output_type": "execute_result",
     "execution_count": 11
    }
   ],
   "source": [
    "# Find the Difference between days\n",
    "day_order['DayDiff'] = (day_order['InvoiceDay'] - day_order['PrevInvoiceDate']).dt.days\n",
    "day_order['DayDiff2'] = (day_order['InvoiceDay'] - day_order['T2InvoiceDate']).dt.days\n",
    "day_order['DayDiff3'] = (day_order['InvoiceDay'] - day_order['T3InvoiceDate']).dt.days\n",
    "\n",
    "day_order.head()"
   ],
   "metadata": {
    "collapsed": false,
    "pycharm": {
     "name": "#%%\n",
     "is_executing": false
    }
   }
  },
  {
   "cell_type": "markdown",
   "source": [
    "For each customer ID, we utilize **.agg()** method to find out the mean and \n",
    "standard deviation of the difference between purchases in days:"
   ],
   "metadata": {
    "collapsed": false,
    "pycharm": {
     "name": "#%% md\n"
    }
   }
  },
  {
   "cell_type": "code",
   "execution_count": 12,
   "outputs": [],
   "source": [
    "# Find out the mean and standard devition of the diference between purchases in days\n",
    "\n",
    "day_diff = day_order.groupby('Customer ID').agg({'DayDiff': ['mean', 'std']}).reset_index()\n",
    "day_diff.columns = ['Customer ID', 'DayDiffMean', 'DayDiffStd']"
   ],
   "metadata": {
    "collapsed": false,
    "pycharm": {
     "name": "#%%\n",
     "is_executing": false
    }
   }
  },
  {
   "cell_type": "markdown",
   "source": [
    "Now we are going to make a tough decision. The calculation above is quite useful \n",
    "for customers who have many purchases. But we can’t say the same for the ones with 1–2 purchases. \n",
    "For instance, it is too early to tag a customer as frequent who has only 2 purchases but back to back.\n",
    "We only keep customers who have > 3 purchases by using the following line:"
   ],
   "metadata": {
    "collapsed": false,
    "pycharm": {
     "name": "#%% md\n"
    }
   }
  },
  {
   "cell_type": "code",
   "execution_count": 13,
   "outputs": [],
   "source": [
    "day_order_last = day_order.drop_duplicates(subset=['Customer ID'], keep='last')"
   ],
   "metadata": {
    "collapsed": false,
    "pycharm": {
     "name": "#%% \n",
     "is_executing": false
    }
   }
  },
  {
   "cell_type": "markdown",
   "source": [
    "Finally, we drop NA values, merge new dataframes with customers and apply **.get_dummies()** \n",
    "for converting categorical values:"
   ],
   "metadata": {
    "collapsed": false,
    "pycharm": {
     "name": "#%% md\n"
    }
   }
  },
  {
   "cell_type": "code",
   "execution_count": 14,
   "outputs": [],
   "source": [
    "day_order_last = day_order_last.dropna()\n",
    "\n",
    "day_order_last = pd.merge(day_order_last, day_diff, on='Customer ID')\n",
    "\n",
    "customers = pd.merge(customers, day_order_last[\n",
    "            ['Customer ID', 'DayDiff', 'DayDiff2', 'DayDiff3', 'DayDiffMean', 'DayDiffStd']], on='Customer ID')\n",
    "\n",
    "# Create the copy of Customer Dataframe to apply get_dummies\n",
    "\n",
    "customers_copy = customers.copy()\n",
    "customers_copy = pd.get_dummies(customers_copy)"
   ],
   "metadata": {
    "collapsed": false,
    "pycharm": {
     "name": "#%%\n",
     "is_executing": false
    }
   }
  },
  {
   "cell_type": "markdown",
   "source": [
    "Now we can set model and train it. But the problem is which one is better for this data.\n",
    "But before we choose the model lets identify the classes.\n",
    "\n",
    "We will be having Two classes classes:\n",
    "* 0–14: Customers that will purchase in first 14 days — Class name: 1\n",
    "* ≥ 14: Customers that will purchase in more than 14 days — Class name: 0"
   ],
   "metadata": {
    "collapsed": false,
    "pycharm": {
     "name": "#%% md\n"
    }
   }
  },
  {
   "cell_type": "code",
   "execution_count": 15,
   "outputs": [],
   "source": [
    "customers_copy['NextPurchaseDayRange'] = 1\n",
    "customers_copy.loc[customers_copy.NextPurchaseDay > 14, 'NextPurchaseDayRange'] = 0"
   ],
   "metadata": {
    "collapsed": false,
    "pycharm": {
     "name": "#%% \n",
     "is_executing": false
    }
   }
  },
  {
   "cell_type": "markdown",
   "source": [
    "### 5. Selecting Model\n",
    "Now we have to select the best model for our data. For this we can test all models scores and pick\n",
    "the best one among them."
   ],
   "metadata": {
    "collapsed": false,
    "pycharm": {
     "name": "#%% md\n"
    }
   }
  },
  {
   "cell_type": "code",
   "execution_count": 16,
   "outputs": [
    {
     "name": "stdout",
     "text": [
      "LR [0.94550959 0.93138244]\n",
      "NB [0.86781029 0.90010091]\n",
      "RF [0.94651867 0.93541877]\n",
      "SVC [0.9283552  0.91826438]\n",
      "Dtree [0.9394551  0.93440969]\n",
      "XGB [0.95055499 0.94046418]\n",
      "KNN [0.9172553  0.91624622]\n"
     ],
     "output_type": "stream"
    }
   ],
   "source": [
    "# Train and Test Split\n",
    "customers_copy = customers_copy.drop('NextPurchaseDay', axis=1)\n",
    "\n",
    "X, y = customers_copy.drop('NextPurchaseDayRange', axis=1), customers_copy.NextPurchaseDayRange\n",
    "\n",
    "X_train, X_test, y_train, y_test = train_test_split(X, y, test_size=0.2, random_state=44)\n",
    "\n",
    "# This is to measure models\n",
    "# Create an array of models\n",
    "models = []\n",
    "models.append((('LR', LogisticRegression())))\n",
    "models.append(('NB', GaussianNB()))\n",
    "models.append(('RF', RandomForestClassifier()))\n",
    "models.append(('SVC', SVC()))\n",
    "models.append((\"Dtree\", DecisionTreeClassifier()))\n",
    "models.append((\"XGB\", xgb.XGBClassifier()))\n",
    "models.append((\"KNN\", KNeighborsClassifier()))\n",
    "\n",
    "# Measure the accuracy\n",
    "for name, model in models:\n",
    "    kfold = KFold(n_splits=2, random_state=22)\n",
    "    result = cross_val_score(model, X_train, y_train, cv=kfold, scoring='accuracy')\n",
    "    print(name, result)\n",
    "    "
   ],
   "metadata": {
    "collapsed": false,
    "pycharm": {
     "name": "#%%\n",
     "is_executing": false
    }
   }
  },
  {
   "cell_type": "markdown",
   "source": [
    "### 6. Train Model\n",
    "As you can see all of the models resulted more than 92% accuracy except the **Gaussian**,\n",
    "so any model would be acceptable. lets pick **RandomForest** model and see the results."
   ],
   "metadata": {
    "collapsed": false,
    "pycharm": {
     "name": "#%% md\n"
    }
   }
  },
  {
   "cell_type": "code",
   "execution_count": 17,
   "outputs": [
    {
     "name": "stdout",
     "text": [
      "Accuracy of RF classifier on training set: 1.00\n",
      "Accuracy of RF classifier on test set: 0.93\n"
     ],
     "output_type": "stream"
    }
   ],
   "source": [
    "rf_model = RandomForestClassifier().fit(X_train, y_train)\n",
    "\n",
    "print('Accuracy of RF classifier on training set: {:.2f}'\n",
    "              .format(rf_model.score(X_train, y_train)))\n",
    "print('Accuracy of RF classifier on test set: {:.2f}'\n",
    "              .format(rf_model.score(X_test[X_train.columns], y_test)))"
   ],
   "metadata": {
    "collapsed": false,
    "pycharm": {
     "name": "#%%\n",
     "is_executing": false
    }
   }
  },
  {
   "cell_type": "markdown",
   "source": [
    "### 7. Predict\n",
    "As you can see it got good accuracy. Now the one thing is left and that is to predict and \n",
    "find out which custoemr will repurchase."
   ],
   "metadata": {
    "collapsed": false,
    "pycharm": {
     "name": "#%% md\n"
    }
   }
  },
  {
   "cell_type": "code",
   "execution_count": 18,
   "outputs": [
    {
     "name": "stdout",
     "text": [
      "Customers Who will repurchase: \n",
      "Customer ID_12361\n",
      "Customer ID_12395\n",
      "Customer ID_12399\n",
      "Customer ID_12407\n",
      "Customer ID_12481\n",
      "Customer ID_12504\n",
      "Customer ID_12518\n",
      "Customer ID_12577\n",
      "Customer ID_12586\n",
      "Customer ID_12600\n",
      "Customer ID_12633\n",
      "Customer ID_12648\n",
      "Customer ID_12757\n",
      "Customer ID_12830\n",
      "Customer ID_12854\n",
      "Customer ID_12889\n",
      "Customer ID_12937\n",
      "Customer ID_12948\n",
      "Customer ID_13104\n",
      "Customer ID_13173\n",
      "Customer ID_13330\n",
      "Customer ID_13362\n",
      "Customer ID_13531\n",
      "Customer ID_13569\n",
      "Customer ID_13711\n",
      "Customer ID_13770\n",
      "Customer ID_13778\n",
      "Customer ID_13798\n",
      "Customer ID_14063\n",
      "Customer ID_14189\n",
      "Customer ID_14199\n",
      "Customer ID_14249\n",
      "Customer ID_14408\n",
      "Customer ID_14493\n",
      "Customer ID_14534\n",
      "Customer ID_14549\n",
      "Customer ID_14693\n",
      "Customer ID_14738\n",
      "Customer ID_14819\n",
      "Customer ID_14829\n",
      "Customer ID_14915\n",
      "Customer ID_15003\n",
      "Customer ID_15057\n",
      "Customer ID_15061\n",
      "Customer ID_15100\n",
      "Customer ID_15125\n",
      "Customer ID_15221\n",
      "Customer ID_15304\n",
      "Customer ID_15347\n",
      "Customer ID_15359\n",
      "Customer ID_15382\n",
      "Customer ID_15410\n",
      "Customer ID_15421\n",
      "Customer ID_15425\n",
      "Customer ID_15443\n",
      "Customer ID_15447\n",
      "Customer ID_15502\n",
      "Customer ID_15505\n",
      "Customer ID_15513\n",
      "Customer ID_15530\n",
      "Customer ID_15547\n",
      "Customer ID_15606\n",
      "Customer ID_15615\n",
      "Customer ID_15625\n",
      "Customer ID_15641\n",
      "Customer ID_15669\n",
      "Customer ID_15691\n",
      "Customer ID_15704\n",
      "Customer ID_15716\n",
      "Customer ID_15717\n",
      "Customer ID_15722\n",
      "Customer ID_15723\n",
      "Customer ID_15727\n",
      "Customer ID_17034\n",
      "Customer ID_17035\n",
      "Customer ID_17041\n",
      "Customer ID_17044\n",
      "Customer ID_17045\n",
      "Customer ID_17054\n",
      "Customer ID_17068\n",
      "Customer ID_17081\n",
      "Customer ID_17083\n",
      "Customer ID_17090\n",
      "Customer ID_17095\n",
      "Customer ID_17101\n",
      "Customer ID_17138\n",
      "Customer ID_17142\n",
      "Customer ID_17146\n",
      "Customer ID_17155\n",
      "Customer ID_17180\n",
      "Customer ID_17235\n",
      "Customer ID_17241\n",
      "Customer ID_17255\n",
      "Customer ID_17284\n",
      "Customer ID_17287\n",
      "Customer ID_17290\n",
      "Customer ID_17311\n",
      "Customer ID_17314\n",
      "Customer ID_17324\n",
      "Customer ID_17345\n",
      "Customer ID_17350\n",
      "Customer ID_17371\n",
      "Customer ID_17375\n",
      "Customer ID_17411\n",
      "Customer ID_17420\n",
      "Customer ID_17422\n",
      "Customer ID_17511\n",
      "Customer ID_17530\n",
      "Customer ID_17588\n",
      "Customer ID_17593\n",
      "Customer ID_17612\n",
      "Customer ID_17618\n",
      "Customer ID_17623\n",
      "Customer ID_17677\n",
      "Customer ID_17682\n",
      "Customer ID_17691\n",
      "Customer ID_17703\n",
      "Customer ID_17706\n",
      "Customer ID_17713\n",
      "Customer ID_17722\n",
      "Customer ID_17728\n",
      "Customer ID_17809\n",
      "Customer ID_17816\n",
      "Customer ID_17829\n",
      "Customer ID_17869\n",
      "Customer ID_17884\n",
      "Customer ID_17905\n",
      "Customer ID_17926\n",
      "Customer ID_17935\n",
      "Customer ID_17941\n",
      "Customer ID_17951\n",
      "Customer ID_17974\n",
      "Customer ID_17975\n",
      "Customer ID_17987\n",
      "Customer ID_18136\n",
      "Customer ID_18144\n",
      "Customer ID_18145\n",
      "Customer ID_18149\n",
      "Customer ID_18151\n",
      "Customer ID_18154\n",
      "Customer ID_18161\n",
      "Customer ID_18170\n",
      "Customer ID_18172\n",
      "Customer ID_18177\n",
      "Customer ID_18188\n",
      "Customer ID_18198\n",
      "Customer ID_18211\n",
      "Customer ID_18217\n",
      "Customer ID_18221\n",
      "Customer ID_18223\n",
      "Customer ID_18225\n",
      "Customer ID_18231\n",
      "Customer ID_18236\n",
      "Customer ID_18237\n",
      "Customer ID_18241\n",
      "Customer ID_18242\n",
      "Customer ID_18245\n"
     ],
     "output_type": "stream"
    }
   ],
   "source": [
    "prediction = rf_model.predict(customers_copy.drop('NextPurchaseDayRange', axis=1))\n",
    "# Customers who will repurchase within 14 days\n",
    "repurchase_customers = []\n",
    "\n",
    "for i in range(0, len(prediction)):\n",
    "    if prediction[i] == 1:\n",
    "        repurchase_customers.append(customers_copy.columns[i])\n",
    "print('Customers Who will repurchase: ')\n",
    "print(\"\\n\".join(repurchase_customers))\n"
   ],
   "metadata": {
    "collapsed": false,
    "pycharm": {
     "name": "#%%\n",
     "is_executing": false
    }
   }
  },
  {
   "cell_type": "markdown",
   "source": [
    "### 8. Conclusion\n",
    "To sum up, this classification model was a very successful one. We prepared some features to add \n",
    "in the model and it turned out to be a good attempt. In regression tasks we used default parameters \n",
    "and we did not add any features and it could not reached a good result. With this classification\n",
    "example we can say for sure that features will significantly improve the accuracy of the model.\n"
   ],
   "metadata": {
    "collapsed": false,
    "pycharm": {
     "name": "#%% md\n"
    }
   }
  }
 ],
 "metadata": {
  "kernelspec": {
   "display_name": "Python 3",
   "language": "python",
   "name": "python3"
  },
  "language_info": {
   "codemirror_mode": {
    "name": "ipython",
    "version": 2
   },
   "file_extension": ".py",
   "mimetype": "text/x-python",
   "name": "python",
   "nbconvert_exporter": "python",
   "pygments_lexer": "ipython2",
   "version": "2.7.6"
  },
  "pycharm": {
   "stem_cell": {
    "cell_type": "raw",
    "source": [],
    "metadata": {
     "collapsed": false
    }
   }
  }
 },
 "nbformat": 4,
 "nbformat_minor": 0
}