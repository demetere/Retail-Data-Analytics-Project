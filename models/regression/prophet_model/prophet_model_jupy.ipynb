{
 "cells": [
  {
   "cell_type": "markdown",
   "source": [
    "# Prophet Model\n",
    "### Goals\n",
    "\n",
    "Our goals is to predict last 14 days worth of sales with using the Prophet model.\n",
    "\n",
    "### Steps\n",
    "* 1.Collecting Data \n",
    "* 2.Split Data\n",
    "* 3.Train Model\n",
    "* 4.Predict\n",
    "* 5.Validate Model\n",
    "* 6.Conclusion\n",
    "\n",
    "### Introduction\n",
    "In this notebook we will use **Prophet** Model for prediction. In this model \n",
    "we will use the models default parameters.\n",
    "\n",
    "First of all, I must say that all classes and functions are\n",
    "already created in this directory but I will show you the codes and \n",
    "usage anyway.\n",
    "\n",
    "First of all we have to define dataset on which we will be working on.\n",
    "We will be using database to collect data from.\n",
    "\n",
    "\n",
    "## 1. Collecting data\n",
    "So first step will be to import some libraries and load some files"
   ],
   "metadata": {
    "collapsed": false
   }
  },
  {
   "cell_type": "code",
   "execution_count": 1,
   "outputs": [],
   "source": [
    "import pandas as pd\n",
    "from database.database import Database\n",
    "from fbprophet import Prophet\n",
    "\n",
    "import matplotlib.pyplot as plt\n",
    "from pandas.plotting import register_matplotlib_converters\n",
    "\n",
    "register_matplotlib_converters()"
   ],
   "metadata": {
    "collapsed": false,
    "pycharm": {
     "name": "#%% \n",
     "is_executing": false
    }
   }
  },
  {
   "cell_type": "markdown",
   "source": [
    "Now we can prepare select query and create database Object."
   ],
   "metadata": {
    "collapsed": false
   }
  },
  {
   "cell_type": "code",
   "execution_count": 2,
   "outputs": [],
   "source": [
    "database = Database('../../../database/database.ini')\n",
    "\n",
    "query = f\"\"\"select it.invoice_date date, sum(ipt.quantity) sale\n",
    "            from retail_data.invoice it\n",
    "            inner join retail_data.invoice_product ipt \n",
    "                on it.invoice_no = ipt.invoice_no\n",
    "            where it.customer_id <> 'NaN' \n",
    "            and left(it.invoice_no,1)<>'C'\n",
    "            group by (it.invoice_date)\n",
    "            order by it.invoice_date   \"\"\""
   ],
   "metadata": {
    "collapsed": false,
    "pycharm": {
     "name": "#%%\n",
     "is_executing": false
    }
   }
  },
  {
   "cell_type": "markdown",
   "source": [
    "We are collecting data where Customer are valid users and their cells is not null.\n",
    "Everything is ready, now we can collect some data from database"
   ],
   "metadata": {
    "collapsed": false
   }
  },
  {
   "cell_type": "code",
   "execution_count": 3,
   "outputs": [],
   "source": [
    "select = database.select(query)"
   ],
   "metadata": {
    "collapsed": false,
    "pycharm": {
     "name": "#%%\n",
     "is_executing": false
    }
   }
  },
  {
   "cell_type": "markdown",
   "source": [
    "Because database select query returns list we need to transform it into **Dataframe**."
   ],
   "metadata": {
    "collapsed": false
   }
  },
  {
   "cell_type": "code",
   "execution_count": 4,
   "outputs": [
    {
     "data": {
      "text/plain": "          ds      y\n0 2009-12-01  24437\n1 2009-12-02  29783\n2 2009-12-03  48033\n3 2009-12-04  20069\n4 2009-12-05   5119",
      "text/html": "<div>\n<style scoped>\n    .dataframe tbody tr th:only-of-type {\n        vertical-align: middle;\n    }\n\n    .dataframe tbody tr th {\n        vertical-align: top;\n    }\n\n    .dataframe thead th {\n        text-align: right;\n    }\n</style>\n<table border=\"1\" class=\"dataframe\">\n  <thead>\n    <tr style=\"text-align: right;\">\n      <th></th>\n      <th>ds</th>\n      <th>y</th>\n    </tr>\n  </thead>\n  <tbody>\n    <tr>\n      <th>0</th>\n      <td>2009-12-01</td>\n      <td>24437</td>\n    </tr>\n    <tr>\n      <th>1</th>\n      <td>2009-12-02</td>\n      <td>29783</td>\n    </tr>\n    <tr>\n      <th>2</th>\n      <td>2009-12-03</td>\n      <td>48033</td>\n    </tr>\n    <tr>\n      <th>3</th>\n      <td>2009-12-04</td>\n      <td>20069</td>\n    </tr>\n    <tr>\n      <th>4</th>\n      <td>2009-12-05</td>\n      <td>5119</td>\n    </tr>\n  </tbody>\n</table>\n</div>"
     },
     "metadata": {},
     "output_type": "execute_result",
     "execution_count": 4
    }
   ],
   "source": [
    "select = database.select(query)\n",
    "sales = pd.DataFrame(select, columns=['Date', 'Sale'])\n",
    "sales['Date'] = pd.to_datetime(sales['Date'])\n",
    "\n",
    "sales = sales.rename(columns={'Date':'ds', 'Sale':'y'})\n",
    "    \n",
    "sales.head()"
   ],
   "metadata": {
    "collapsed": false,
    "pycharm": {
     "name": "#%%\n",
     "is_executing": false
    }
   }
  },
  {
   "cell_type": "code",
   "execution_count": 5,
   "outputs": [
    {
     "data": {
      "text/plain": "[<matplotlib.lines.Line2D at 0x7f5c2b7e8390>]"
     },
     "metadata": {},
     "output_type": "execute_result",
     "execution_count": 5
    },
    {
     "data": {
      "text/plain": "<Figure size 432x288 with 1 Axes>",
      "image/png": "[encoded data removed]"
     },
     "metadata": {
      "needs_background": "light"
     },
     "output_type": "display_data"
    }
   ],
   "source": [
    "plt.plot(sales['ds'],sales['y'])"
   ],
   "metadata": {
    "collapsed": false,
    "pycharm": {
     "name": "#%%\n",
     "is_executing": false
    }
   }
  },
  {
   "cell_type": "markdown",
   "source": [
    "As you can see we have two columns with changed column names. **ds** is Date and **y** is sales. We have\n",
    "change column names because prophet model can not train model until those names are present. As I said we have\n",
    "two column. Dates and Daily Sales.\n",
    "## 2. Split Data\n",
    "Now we can split data. One part will be for validation and the other will be for train.\n",
    "Our validation data will be last 14 days\n",
    " "
   ],
   "metadata": {
    "collapsed": false
   }
  },
  {
   "cell_type": "code",
   "execution_count": 6,
   "outputs": [],
   "source": [
    "split_point = len(sales) - 14\n",
    "dataset, validation = sales[0:split_point], sales[split_point:]"
   ],
   "metadata": {
    "collapsed": false,
    "pycharm": {
     "name": "#%% \n",
     "is_executing": false
    }
   }
  },
  {
   "cell_type": "markdown",
   "source": [
    "## 3. Train Model\n",
    "Now data preparation is done. Now we can finalize ARIMA model. \n",
    "Because we use the most basic form of **Prophet**  we will create it within this notebook.\n",
    "Lets create and train model.\n"
   ],
   "metadata": {
    "collapsed": false
   }
  },
  {
   "cell_type": "code",
   "execution_count": 7,
   "outputs": [
    {
     "name": "stderr",
     "text": [
      "INFO:fbprophet:Disabling yearly seasonality. Run prophet with yearly_seasonality=True to override this.\n",
      "INFO:fbprophet:Disabling daily seasonality. Run prophet with daily_seasonality=True to override this.\n"
     ],
     "output_type": "stream"
    },
    {
     "data": {
      "text/plain": "<fbprophet.forecaster.Prophet at 0x7f5c2b73d750>"
     },
     "metadata": {},
     "output_type": "execute_result",
     "execution_count": 7
    }
   ],
   "source": [
    "model = Prophet()\n",
    "model.fit(dataset)"
   ],
   "metadata": {
    "collapsed": false,
    "pycharm": {
     "name": "#%%\n",
     "is_executing": false
    }
   }
  },
  {
   "cell_type": "markdown",
   "source": [
    "## 4. Predict\n",
    "\n",
    "Now we have model and can predict some sales. The function which will be predicting future \n",
    "sales are already created and I will share the code of that function with you."
   ],
   "metadata": {
    "collapsed": false
   }
  },
  {
   "cell_type": "raw",
   "source": [
    "def predict_prophet(model, validation):\n",
    "    # Create new dataframe with the dates that has to be predicted\n",
    "    future_dataframe = validation.drop('y', axis=1)\n",
    "\n",
    "    # Reset index\n",
    "    future_dataframe = future_dataframe.reset_index(drop=True)\n",
    "\n",
    "    # Predict\n",
    "    forecast = model.predict(future_dataframe)\n",
    "\n",
    "    # Pick only dates and predictions\n",
    "    forecast = forecast[['ds', 'yhat']]\n",
    "\n",
    "    # Rename so we understand which one is Date and which one Sale\n",
    "    forecast = forecast.rename(columns={'ds': 'Date', 'yhat': 'Sale'})\n",
    "\n",
    "    print(forecast)\n",
    "\n",
    "    return forecast\n",
    "\n"
   ],
   "metadata": {
    "collapsed": false
   }
  },
  {
   "cell_type": "markdown",
   "source": [
    "As you can see there, this function requires validation dataset, because it need to collect the dates \n",
    "that the function has to predict. It is date based model. With this function we can predict 14 days worth of \n",
    "sales which is our goal. \n",
    "Now lets predict it"
   ],
   "metadata": {
    "collapsed": false
   }
  },
  {
   "cell_type": "code",
   "execution_count": 8,
   "outputs": [
    {
     "name": "stdout",
     "text": [
      "         Date          Sale\n",
      "0  2011-11-24  27763.298484\n",
      "1  2011-11-25  20600.431665\n",
      "2  2011-11-27  16328.580585\n",
      "3  2011-11-28  25268.828016\n",
      "4  2011-11-29  25112.407953\n",
      "5  2011-11-30  24357.614432\n",
      "6  2011-12-01  28098.111742\n",
      "7  2011-12-02  20935.244923\n",
      "8  2011-12-04  16663.393843\n",
      "9  2011-12-05  25603.641274\n",
      "10 2011-12-06  25447.221211\n",
      "11 2011-12-07  24692.427690\n",
      "12 2011-12-08  28432.925000\n",
      "13 2011-12-09  21270.058181\n"
     ],
     "output_type": "stream"
    }
   ],
   "source": [
    "from models.regression.prophet_model.predict_prophet import predict_prophet\n",
    "\n",
    "forecast = predict_prophet(model, validation)"
   ],
   "metadata": {
    "collapsed": false,
    "pycharm": {
     "name": "#%%\n",
     "is_executing": false
    }
   }
  },
  {
   "cell_type": "markdown",
   "source": [
    "## 5. Validate Model\n",
    "With this we can predicted some values. Now lets validate the model. The function \n",
    "that validates this model will be like that: "
   ],
   "metadata": {
    "collapsed": false
   }
  },
  {
   "cell_type": "raw",
   "source": [
    "from math import sqrt\n",
    "from sklearn.metrics import mean_squared_error\n",
    "\n",
    "\n",
    "def validate_prophet(validation, predictions):\n",
    "\n",
    "    mse = mean_squared_error(validation, predictions)\n",
    "    rmse = sqrt(mse)\n",
    "    print('RMSE: %.3f' % rmse)\n",
    "    \n",
    "    return rmse\n",
    "\n",
    "    "
   ],
   "metadata": {
    "collapsed": false
   }
  },
  {
   "cell_type": "markdown",
   "source": [
    "It is easiest way one of the easiest way to check the results, but of course you can change it\n",
    "anyway you like it. First of all lets make sure that the type of validation data and the prediction\n",
    "data is the same before we process"
   ],
   "metadata": {
    "collapsed": false
   }
  },
  {
   "cell_type": "code",
   "execution_count": 9,
   "outputs": [],
   "source": [
    "validation_data = validation['y'].to_numpy().astype(float)\n",
    "prediction_data = forecast['Sale'].to_numpy()"
   ],
   "metadata": {
    "collapsed": false,
    "pycharm": {
     "name": "#%%\n",
     "is_executing": false
    }
   }
  },
  {
   "cell_type": "markdown",
   "source": [
    "Now we can call that function and see the results."
   ],
   "metadata": {
    "collapsed": false
   }
  },
  {
   "cell_type": "code",
   "execution_count": 10,
   "outputs": [
    {
     "name": "stdout",
     "text": [
      "RMSE: 19653.776\n"
     ],
     "output_type": "stream"
    },
    {
     "data": {
      "text/plain": "19653.776356618357"
     },
     "metadata": {},
     "output_type": "execute_result",
     "execution_count": 10
    }
   ],
   "source": [
    "from models.regression.prophet_model.validate_prophet import validate_prophet\n",
    "\n",
    "validate_prophet(validation_data, prediction_data)"
   ],
   "metadata": {
    "collapsed": false,
    "pycharm": {
     "name": "#%%\n",
     "is_executing": false
    }
   }
  },
  {
   "cell_type": "markdown",
   "source": [
    "\n",
    "## 6. Conclusion\n",
    "As you can see RMSE is rather high. That is because our data has no seasonality or trend, \n",
    "In addition to this the parameters was default and we did not change anything. So by changing \n",
    "some parameters you might get better result than this."
   ],
   "metadata": {
    "collapsed": false
   }
  }
 ],
 "metadata": {
  "kernelspec": {
   "display_name": "Python 3",
   "language": "python",
   "name": "python3"
  },
  "language_info": {
   "codemirror_mode": {
    "name": "ipython",
    "version": 2
   },
   "file_extension": ".py",
   "mimetype": "text/x-python",
   "name": "python",
   "nbconvert_exporter": "python",
   "pygments_lexer": "ipython2",
   "version": "2.7.6"
  },
  "pycharm": {
   "stem_cell": {
    "cell_type": "raw",
    "source": [],
    "metadata": {
     "collapsed": false
    }
   }
  }
 },
 "nbformat": 4,
 "nbformat_minor": 0
}