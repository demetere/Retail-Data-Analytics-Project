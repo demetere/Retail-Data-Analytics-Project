{
 "cells": [
  {
   "cell_type": "markdown",
   "metadata": {
    "collapsed": true,
    "pycharm": {
     "name": "#%% md\n"
    }
   },
   "source": [
    "# Regression Tasks\n",
    "## Introduction\n",
    "This jupyter notebook is made for comparing two models of the regression tasks\n",
    "which solves the prediction problems which is given below.\n",
    "## Goals\n",
    "Our Goal is to predict the last 14 days worth fo sales with the give\n",
    "data of 2 years. We have two models presented there with the basic\n",
    "parameters and we have to predict the values and determine which \n",
    "model is better for the given data. We have **ARIMA** model and \n",
    "**Prophet** model\n",
    "\n",
    "\n",
    "<br><br>\n",
    "Now lets see the result of ARIMA model and the value of RMSE (ROOT MEAN SQUARED ERROR)."
   ]
  },
  {
   "cell_type": "code",
   "execution_count": 1,
   "outputs": [
    {
     "name": "stderr",
     "text": [
      "Using TensorFlow backend.\n"
     ],
     "output_type": "stream"
    },
    {
     "name": "stdout",
     "text": [
      "Day 1: 23246.663545\n",
      "Day 2: 19953.698977\n",
      "Day 3: 12549.208370\n",
      "Day 4: 15542.696158\n",
      "Day 5: 15611.828435\n",
      "Day 6: 17472.059424\n",
      "Day 7: 31029.318654\n",
      "Day 8: 13926.235955\n",
      "Day 9: 23064.097261\n",
      "Day 10: 17177.871618\n",
      "Day 11: 14475.652550\n",
      "Day 12: 17081.563978\n",
      "Day 13: 26280.196401\n",
      "Day 14: 37464.321190\n",
      "RMSE: 32672.368\n"
     ],
     "output_type": "stream"
    }
   ],
   "source": [
    "from models.regression.arima_model.arima_model import arima_model\n",
    "\n",
    "arima_rmse = arima_model('../../database/database.ini')"
   ],
   "metadata": {
    "collapsed": false,
    "pycharm": {
     "name": "#%% \n",
     "is_executing": false
    }
   }
  },
  {
   "cell_type": "markdown",
   "source": [
    "As you can see the RMSE of arima model is **32672.368**. Now lets check\n",
    "the RMSE of the prophet model"
   ],
   "metadata": {
    "collapsed": false,
    "pycharm": {
     "name": "#%% md\n"
    }
   }
  },
  {
   "cell_type": "code",
   "execution_count": 2,
   "outputs": [
    {
     "name": "stderr",
     "text": [
      "INFO:fbprophet:Disabling yearly seasonality. Run prophet with yearly_seasonality=True to override this.\n",
      "INFO:fbprophet:Disabling daily seasonality. Run prophet with daily_seasonality=True to override this.\n"
     ],
     "output_type": "stream"
    },
    {
     "name": "stdout",
     "text": [
      "         Date          Sale\n",
      "0  2011-11-24  27763.298484\n",
      "1  2011-11-25  20600.431665\n",
      "2  2011-11-27  16328.580585\n",
      "3  2011-11-28  25268.828016\n",
      "4  2011-11-29  25112.407953\n",
      "5  2011-11-30  24357.614432\n",
      "6  2011-12-01  28098.111742\n",
      "7  2011-12-02  20935.244923\n",
      "8  2011-12-04  16663.393843\n",
      "9  2011-12-05  25603.641274\n",
      "10 2011-12-06  25447.221211\n",
      "11 2011-12-07  24692.427690\n",
      "12 2011-12-08  28432.925000\n",
      "13 2011-12-09  21270.058181\n",
      "RMSE: 19653.776\n"
     ],
     "output_type": "stream"
    }
   ],
   "source": [
    "from models.regression.prophet_model.prophet_model import prophet_model\n",
    "\n",
    "prophet_rmse = prophet_model('../../database/database.ini')"
   ],
   "metadata": {
    "collapsed": false,
    "pycharm": {
     "name": "#%%\n",
     "is_executing": false
    }
   }
  },
  {
   "cell_type": "markdown",
   "source": [
    "The RMSE of the prophet model is **19653.776** which is far better result\n",
    "than the ARIMA model. In the both models, there was used basic parameters which\n",
    "you can change in the defined functions in this project. Evey parameter can be changed\n",
    "which may produce better results than this one. "
   ],
   "metadata": {
    "collapsed": false,
    "pycharm": {
     "name": "#%% md\n"
    }
   }
  }
 ],
 "metadata": {
  "kernelspec": {
   "display_name": "Python 3",
   "language": "python",
   "name": "python3"
  },
  "language_info": {
   "codemirror_mode": {
    "name": "ipython",
    "version": 2
   },
   "file_extension": ".py",
   "mimetype": "text/x-python",
   "name": "python",
   "nbconvert_exporter": "python",
   "pygments_lexer": "ipython2",
   "version": "2.7.6"
  },
  "pycharm": {
   "stem_cell": {
    "cell_type": "raw",
    "source": [],
    "metadata": {
     "collapsed": false
    }
   }
  }
 },
 "nbformat": 4,
 "nbformat_minor": 0
}